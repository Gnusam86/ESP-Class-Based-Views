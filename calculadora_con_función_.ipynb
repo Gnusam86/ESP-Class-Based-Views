{
  "cells": [
    {
      "cell_type": "markdown",
      "metadata": {
        "id": "view-in-github",
        "colab_type": "text"
      },
      "source": [
        "<a href=\"https://colab.research.google.com/github/Gnusam86/ESP-Class-Based-Views/blob/master/calculadora_con_funci%C3%B3n_.ipynb\" target=\"_parent\"><img src=\"https://colab.research.google.com/assets/colab-badge.svg\" alt=\"Open In Colab\"/></a>"
      ]
    },
    {
      "cell_type": "markdown",
      "source": [
        "¡Por supuesto! Aquí tienes el ejemplo clásico de una calculadora en Python que utiliza funciones para realizar las operaciones básicas:"
      ],
      "metadata": {
        "id": "LUbf-pcilsqZ"
      }
    },
    {
      "cell_type": "code",
      "source": [
        "def sumar(x, y):\n",
        "    \"\"\"Suma dos números.\"\"\"\n",
        "    return x + y\n",
        "\n",
        "def restar(x, y):\n",
        "    \"\"\"Resta dos números.\"\"\"\n",
        "    return x - y\n",
        "\n",
        "def multiplicar(x, y):\n",
        "    \"\"\"Multiplica dos números.\"\"\"\n",
        "    return x * y\n",
        "\n",
        "def dividir(x, y):\n",
        "    \"\"\"Divide dos números.\n",
        "\n",
        "    Args:\n",
        "        x: El dividendo.\n",
        "        y: El divisor.\n",
        "\n",
        "    Returns:\n",
        "        El resultado de la división si el divisor no es cero.\n",
        "        Un mensaje de error si el divisor es cero.\n",
        "    \"\"\"\n",
        "    if y == 0:\n",
        "        return \"Error: División por cero\"\n",
        "    else:\n",
        "        return x / y\n",
        "\n",
        "while True:\n",
        "    print(\"\\nSeleccione la operación:\")\n",
        "    print(\"1. Sumar\")\n",
        "    print(\"2. Restar\")\n",
        "    print(\"3. Multiplicar\")\n",
        "    print(\"4. Dividir\")\n",
        "    print(\"5. Salir\")\n",
        "\n",
        "    opcion = input(\"Ingrese su elección (1/2/3/4/5): \")\n",
        "\n",
        "    if opcion == '5':\n",
        "        break\n",
        "\n",
        "    if opcion in ('1', '2', '3', '4'):\n",
        "        num1 = float(input(\"Ingrese el primer número: \"))\n",
        "        num2 = float(input(\"Ingrese el segundo número: \"))\n",
        "\n",
        "        if opcion == '1':\n",
        "            print(num1, \"+\", num2, \"=\", sumar(num1, num2))\n",
        "\n",
        "        elif opcion == '2':\n",
        "            print(num1, \"-\", num2, \"=\", restar(num1, num2))\n",
        "\n",
        "        elif opcion == '3':\n",
        "            print(num1, \"*\", num2, \"=\", multiplicar(num1, num2))\n",
        "\n",
        "        elif opcion == '4':\n",
        "            print(num1, \"/\", num2, \"=\", dividir(num1, num2))\n",
        "\n",
        "    else:\n",
        "        print(\"Opción inválida. Por favor, ingrese una opción válida.\")"
      ],
      "outputs": [
        {
          "output_type": "stream",
          "name": "stdout",
          "text": [
            "\n",
            "Seleccione la operación:\n",
            "1. Sumar\n",
            "2. Restar\n",
            "3. Multiplicar\n",
            "4. Dividir\n",
            "5. Salir\n",
            "Ingrese su elección (1/2/3/4/5): 3\n",
            "Ingrese el primer número: 5\n",
            "Ingrese el segundo número: 6\n",
            "5.0 * 6.0 = 30.0\n",
            "\n",
            "Seleccione la operación:\n",
            "1. Sumar\n",
            "2. Restar\n",
            "3. Multiplicar\n",
            "4. Dividir\n",
            "5. Salir\n"
          ]
        },
        {
          "output_type": "error",
          "ename": "KeyboardInterrupt",
          "evalue": "Interrupted by user",
          "traceback": [
            "\u001b[0;31m---------------------------------------------------------------------------\u001b[0m",
            "\u001b[0;31mKeyboardInterrupt\u001b[0m                         Traceback (most recent call last)",
            "\u001b[0;32m<ipython-input-1-c85be616e070>\u001b[0m in \u001b[0;36m<cell line: 29>\u001b[0;34m()\u001b[0m\n\u001b[1;32m     35\u001b[0m     \u001b[0mprint\u001b[0m\u001b[0;34m(\u001b[0m\u001b[0;34m\"5. Salir\"\u001b[0m\u001b[0;34m)\u001b[0m\u001b[0;34m\u001b[0m\u001b[0;34m\u001b[0m\u001b[0m\n\u001b[1;32m     36\u001b[0m \u001b[0;34m\u001b[0m\u001b[0m\n\u001b[0;32m---> 37\u001b[0;31m     \u001b[0mopcion\u001b[0m \u001b[0;34m=\u001b[0m \u001b[0minput\u001b[0m\u001b[0;34m(\u001b[0m\u001b[0;34m\"Ingrese su elección (1/2/3/4/5): \"\u001b[0m\u001b[0;34m)\u001b[0m\u001b[0;34m\u001b[0m\u001b[0;34m\u001b[0m\u001b[0m\n\u001b[0m\u001b[1;32m     38\u001b[0m \u001b[0;34m\u001b[0m\u001b[0m\n\u001b[1;32m     39\u001b[0m     \u001b[0;32mif\u001b[0m \u001b[0mopcion\u001b[0m \u001b[0;34m==\u001b[0m \u001b[0;34m'5'\u001b[0m\u001b[0;34m:\u001b[0m\u001b[0;34m\u001b[0m\u001b[0;34m\u001b[0m\u001b[0m\n",
            "\u001b[0;32m/usr/local/lib/python3.10/dist-packages/ipykernel/kernelbase.py\u001b[0m in \u001b[0;36mraw_input\u001b[0;34m(self, prompt)\u001b[0m\n\u001b[1;32m    849\u001b[0m                 \u001b[0;34m\"raw_input was called, but this frontend does not support input requests.\"\u001b[0m\u001b[0;34m\u001b[0m\u001b[0;34m\u001b[0m\u001b[0m\n\u001b[1;32m    850\u001b[0m             )\n\u001b[0;32m--> 851\u001b[0;31m         return self._input_request(str(prompt),\n\u001b[0m\u001b[1;32m    852\u001b[0m             \u001b[0mself\u001b[0m\u001b[0;34m.\u001b[0m\u001b[0m_parent_ident\u001b[0m\u001b[0;34m,\u001b[0m\u001b[0;34m\u001b[0m\u001b[0;34m\u001b[0m\u001b[0m\n\u001b[1;32m    853\u001b[0m             \u001b[0mself\u001b[0m\u001b[0;34m.\u001b[0m\u001b[0m_parent_header\u001b[0m\u001b[0;34m,\u001b[0m\u001b[0;34m\u001b[0m\u001b[0;34m\u001b[0m\u001b[0m\n",
            "\u001b[0;32m/usr/local/lib/python3.10/dist-packages/ipykernel/kernelbase.py\u001b[0m in \u001b[0;36m_input_request\u001b[0;34m(self, prompt, ident, parent, password)\u001b[0m\n\u001b[1;32m    893\u001b[0m             \u001b[0;32mexcept\u001b[0m \u001b[0mKeyboardInterrupt\u001b[0m\u001b[0;34m:\u001b[0m\u001b[0;34m\u001b[0m\u001b[0;34m\u001b[0m\u001b[0m\n\u001b[1;32m    894\u001b[0m                 \u001b[0;31m# re-raise KeyboardInterrupt, to truncate traceback\u001b[0m\u001b[0;34m\u001b[0m\u001b[0;34m\u001b[0m\u001b[0m\n\u001b[0;32m--> 895\u001b[0;31m                 \u001b[0;32mraise\u001b[0m \u001b[0mKeyboardInterrupt\u001b[0m\u001b[0;34m(\u001b[0m\u001b[0;34m\"Interrupted by user\"\u001b[0m\u001b[0;34m)\u001b[0m \u001b[0;32mfrom\u001b[0m \u001b[0;32mNone\u001b[0m\u001b[0;34m\u001b[0m\u001b[0;34m\u001b[0m\u001b[0m\n\u001b[0m\u001b[1;32m    896\u001b[0m             \u001b[0;32mexcept\u001b[0m \u001b[0mException\u001b[0m \u001b[0;32mas\u001b[0m \u001b[0me\u001b[0m\u001b[0;34m:\u001b[0m\u001b[0;34m\u001b[0m\u001b[0;34m\u001b[0m\u001b[0m\n\u001b[1;32m    897\u001b[0m                 \u001b[0mself\u001b[0m\u001b[0;34m.\u001b[0m\u001b[0mlog\u001b[0m\u001b[0;34m.\u001b[0m\u001b[0mwarning\u001b[0m\u001b[0;34m(\u001b[0m\u001b[0;34m\"Invalid Message:\"\u001b[0m\u001b[0;34m,\u001b[0m \u001b[0mexc_info\u001b[0m\u001b[0;34m=\u001b[0m\u001b[0;32mTrue\u001b[0m\u001b[0;34m)\u001b[0m\u001b[0;34m\u001b[0m\u001b[0;34m\u001b[0m\u001b[0m\n",
            "\u001b[0;31mKeyboardInterrupt\u001b[0m: Interrupted by user"
          ]
        }
      ],
      "execution_count": 1,
      "metadata": {
        "colab": {
          "base_uri": "https://localhost:8080/",
          "height": 696
        },
        "id": "e1ZVjXxolsqb",
        "outputId": "d994f192-a9ee-4343-d16a-21c98088b1b4"
      }
    },
    {
      "cell_type": "markdown",
      "source": [
        "**Explicación:**\n",
        "\n",
        "1. **Funciones para las operaciones:**\n",
        "   - Se definen cuatro funciones: `sumar`, `restar`, `multiplicar` y `dividir`, cada una de las cuales realiza la operación correspondiente y devuelve el resultado.\n",
        "   - La función `dividir` incluye un manejo de errores para evitar la división por cero.\n",
        "\n",
        "2. **Bucle principal:**\n",
        "   - Se utiliza un bucle `while True` para mantener la calculadora en ejecución hasta que el usuario elija salir.\n",
        "   - Se muestra un menú de opciones al usuario.\n",
        "   - Se solicita al usuario que ingrese su elección.\n",
        "\n",
        "3. **Manejo de la elección del usuario:**\n",
        "   - Si el usuario elige '5', se sale del bucle y se termina el programa.\n",
        "   - Si el usuario elige una opción válida (1, 2, 3 o 4):\n",
        "     - Se solicitan al usuario dos números.\n",
        "     - Se llama a la función correspondiente a la operación elegida y se imprime el resultado.\n",
        "   - Si el usuario ingresa una opción inválida, se muestra un mensaje de error.\n",
        "\n",
        "**Puntos clave:**\n",
        "\n",
        "* Este ejemplo demuestra el uso básico de funciones en Python para organizar el código y hacerlo más modular.\n",
        "* Cada función tiene una única responsabilidad (realizar una operación matemática específica).\n",
        "* El bucle principal controla el flujo del programa y permite al usuario realizar múltiples operaciones.\n",
        "* Se incluye un manejo de errores básico para evitar la división por cero.\n",
        "\n",
        "**¡Mejora!** Puedes extender esta calculadora básica agregando más operaciones (potencia, raíz cuadrada, etc.), utilizando una interfaz gráfica de usuario (GUI) con botones y una pantalla, o implementando funciones más avanzadas como el cálculo de porcentajes o el manejo de expresiones matemáticas complejas."
      ],
      "metadata": {
        "id": "luFjjIZBlsqc"
      }
    },
    {
      "cell_type": "markdown",
      "source": [
        "<div class=\"md-recitation\">\n",
        "  Sources\n",
        "  <ol>\n",
        "  <li><a href=\"https://github.com/perq08/Tarea-1\">https://github.com/perq08/Tarea-1</a></li>\n",
        "  <li><a href=\"https://github.com/financieras/pyEjemplos\">https://github.com/financieras/pyEjemplos</a></li>\n",
        "  </ol>\n",
        "</div>"
      ],
      "metadata": {
        "id": "E3cdRHWMlsqc"
      }
    }
  ],
  "metadata": {
    "colab": {
      "provenance": [],
      "include_colab_link": true
    },
    "kernelspec": {
      "display_name": "Python 3",
      "name": "python3"
    }
  },
  "nbformat": 4,
  "nbformat_minor": 0
}